{
  "nbformat": 4,
  "nbformat_minor": 0,
  "metadata": {
    "kernelspec": {
      "display_name": "Python 3",
      "language": "python",
      "name": "python3"
    },
    "language_info": {
      "codemirror_mode": {
        "name": "ipython",
        "version": 3
      },
      "file_extension": ".py",
      "mimetype": "text/x-python",
      "name": "python",
      "nbconvert_exporter": "python",
      "pygments_lexer": "ipython3",
      "version": "3.6.7"
    },
    "colab": {
      "name": "자습용_AI_abalone.ipynb",
      "provenance": [],
      "include_colab_link": true
    }
  },
  "cells": [
    {
      "cell_type": "markdown",
      "metadata": {
        "id": "view-in-github",
        "colab_type": "text"
      },
      "source": [
        "<a href=\"https://colab.research.google.com/github/jikerbug/Artificial_Intelligence/blob/master/%EC%9E%90%EC%8A%B5%EC%9A%A9_AI_abalone.ipynb\" target=\"_parent\"><img src=\"https://colab.research.google.com/assets/colab-badge.svg\" alt=\"Open In Colab\"/></a>"
      ]
    },
    {
      "cell_type": "markdown",
      "metadata": {
        "id": "mM8O2XkFaHsI",
        "colab_type": "text"
      },
      "source": [
        "## 0.0 파이썬 모듈 불러들이기"
      ]
    },
    {
      "cell_type": "code",
      "metadata": {
        "id": "mSrsO91WaHsK",
        "colab_type": "code",
        "colab": {}
      },
      "source": [
        "import numpy as np\n",
        "import csv\n",
        "import time\n",
        "\n",
        "np.random.seed(1234)\n",
        "def randomize(): np.random.seed(time.time())"
      ],
      "execution_count": null,
      "outputs": []
    },
    {
      "cell_type": "markdown",
      "metadata": {
        "id": "_kOsvoKXaHsQ",
        "colab_type": "text"
      },
      "source": [
        "## 0.1 하이퍼 파라미터 정의"
      ]
    },
    {
      "cell_type": "code",
      "metadata": {
        "id": "MmEpunftaHsR",
        "colab_type": "code",
        "colab": {}
      },
      "source": [
        "RND_MEAN = 0\n",
        "RND_STD = 0.0030\n",
        "\n",
        "LEARNING_RATE = 0.001"
      ],
      "execution_count": null,
      "outputs": []
    },
    {
      "cell_type": "markdown",
      "metadata": {
        "id": "AJM2urW-aHsV",
        "colab_type": "text"
      },
      "source": [
        "## A.1 실험용 메인함수"
      ]
    },
    {
      "cell_type": "code",
      "metadata": {
        "id": "obLo20GcaHsW",
        "colab_type": "code",
        "colab": {}
      },
      "source": [
        "def abalone_exec(epoch_count = 10, mb_size = 10, report = 1):\n",
        "    load_abalone_dataset()\n",
        "    init_model()\n",
        "    train_and_test(epoch_count, mb_size, report)"
      ],
      "execution_count": null,
      "outputs": []
    },
    {
      "cell_type": "markdown",
      "metadata": {
        "id": "a4QEwETIaHsa",
        "colab_type": "text"
      },
      "source": [
        "## B.1 데이터 적재함수 정의 "
      ]
    },
    {
      "cell_type": "code",
      "metadata": {
        "id": "cPKBpufQaHsb",
        "colab_type": "code",
        "colab": {}
      },
      "source": [
        "def load_abalone_dataset():\n",
        "    with open('abalone.csv') as csvfile:\n",
        "        csvreader = csv.reader(csvfile)\n",
        "        next(csvreader, None)\n",
        "        rows = []\n",
        "        for row in csvreader:\n",
        "            rows.append(row)\n",
        "            \n",
        "    global data, input_cnt, output_cnt\n",
        "    input_cnt, output_cnt = 10, 1\n",
        "    data = np.zeros([len(rows), input_cnt+output_cnt])\n",
        "\n",
        "    for n, row in enumerate(rows):\n",
        "        if row[0] == 'I': data[n, 0] = 1\n",
        "        if row[0] == 'M': data[n, 1] = 1\n",
        "        if row[0] == 'F': data[n, 2] = 1\n",
        "        data[n, 3:] = row[1:]"
      ],
      "execution_count": null,
      "outputs": []
    },
    {
      "cell_type": "markdown",
      "metadata": {
        "id": "CYWWD-wMaHsg",
        "colab_type": "text"
      },
      "source": [
        "## B.2 파라미터 초기화 함수 정의 "
      ]
    },
    {
      "cell_type": "code",
      "metadata": {
        "id": "9e_jAtFUaHsg",
        "colab_type": "code",
        "colab": {}
      },
      "source": [
        "def init_model():\n",
        "    global weight, bias, input_cnt, output_cnt\n",
        "    weight = np.random.normal(RND_MEAN, RND_STD,[input_cnt, output_cnt])\n",
        "    bias = np.zeros([output_cnt])"
      ],
      "execution_count": null,
      "outputs": []
    },
    {
      "cell_type": "markdown",
      "metadata": {
        "id": "xit4xoLhaHsk",
        "colab_type": "text"
      },
      "source": [
        "## B.3 학습 및 평가 함수 정의"
      ]
    },
    {
      "cell_type": "code",
      "metadata": {
        "id": "hS3hdUjcaHsl",
        "colab_type": "code",
        "colab": {}
      },
      "source": [
        "def train_and_test(epoch_count, mb_size, report):\n",
        "    step_count = arrange_data(mb_size)\n",
        "    test_x, test_y = get_test_data()\n",
        "    \n",
        "    for epoch in range(epoch_count):\n",
        "        losses, accs = [], []\n",
        "        \n",
        "        for n in range(step_count):\n",
        "            train_x, train_y = get_train_data(mb_size, n)\n",
        "            loss, acc = run_train(train_x, train_y)\n",
        "            losses.append(loss)\n",
        "            accs.append(acc)\n",
        "            \n",
        "        if report > 0 and (epoch+1) % report == 0:\n",
        "            acc = run_test(test_x, test_y)\n",
        "            print('Epoch {}: loss={:5.3f}, accuracy={:5.3f}/{:5.3f}'. \\\n",
        "                  format(epoch+1, np.mean(losses), np.mean(accs), acc))\n",
        "            \n",
        "    final_acc = run_test(test_x, test_y)\n",
        "    print('\\nFinal Test: final accuracy = {:5.3f}'.format(final_acc))"
      ],
      "execution_count": null,
      "outputs": []
    },
    {
      "cell_type": "markdown",
      "metadata": {
        "id": "OAWgruDFaHsq",
        "colab_type": "text"
      },
      "source": [
        "## C.1~3 학습 및 평가 데이터 획득 함수 정의"
      ]
    },
    {
      "cell_type": "code",
      "metadata": {
        "id": "Ed_-bZe6aHsr",
        "colab_type": "code",
        "colab": {}
      },
      "source": [
        "def arrange_data(mb_size):\n",
        "    global data, shuffle_map, test_begin_idx\n",
        "    shuffle_map = np.arange(data.shape[0])\n",
        "    np.random.shuffle(shuffle_map)\n",
        "    step_count = int(data.shape[0] * 0.8) // mb_size\n",
        "    test_begin_idx = step_count * mb_size\n",
        "    return step_count\n",
        "\n",
        "def get_test_data():\n",
        "    global data, shuffle_map, test_begin_idx, output_cnt\n",
        "    test_data = data[shuffle_map[test_begin_idx:]]\n",
        "    return test_data[:, :-output_cnt], test_data[:, -output_cnt:]\n",
        "\n",
        "def get_train_data(mb_size, nth):\n",
        "    global data, shuffle_map, test_begin_idx, output_cnt\n",
        "    if nth == 0:\n",
        "        np.random.shuffle(shuffle_map[:test_begin_idx])\n",
        "    train_data = data[shuffle_map[mb_size*nth:mb_size*(nth+1)]]\n",
        "    return train_data[:, :-output_cnt], train_data[:, -output_cnt:]"
      ],
      "execution_count": null,
      "outputs": []
    },
    {
      "cell_type": "markdown",
      "metadata": {
        "id": "lB8_RfzjaHsu",
        "colab_type": "text"
      },
      "source": [
        "## C.4~5 학습 실행 함수와 평가 실행함수 정의"
      ]
    },
    {
      "cell_type": "code",
      "metadata": {
        "id": "TqJGItgyaHsv",
        "colab_type": "code",
        "colab": {}
      },
      "source": [
        "def run_train(x, y):\n",
        "    output, aux_nn = forward_neuralnet(x)\n",
        "    loss, aux_pp = forward_postproc(output, y)\n",
        "    accuracy = eval_accuracy(output, y)\n",
        "    \n",
        "    G_loss = 1.0\n",
        "    G_output = backprop_postproc(G_loss, aux_pp)\n",
        "    backprop_neuralnet(G_output, aux_nn)\n",
        "    \n",
        "    return loss, accuracy\n",
        "\n",
        "def run_test(x, y):\n",
        "    output, _ = forward_neuralnet(x)\n",
        "    accuracy = eval_accuracy(output, y)\n",
        "    return accuracy"
      ],
      "execution_count": null,
      "outputs": []
    },
    {
      "cell_type": "markdown",
      "metadata": {
        "id": "ELpSOtWMaHsz",
        "colab_type": "text"
      },
      "source": [
        "## D.1 / E.1 단층 퍼셉트론에 대한 순전파 및 역전파 함수 정의"
      ]
    },
    {
      "cell_type": "code",
      "metadata": {
        "id": "5gbrriydaHsz",
        "colab_type": "code",
        "colab": {}
      },
      "source": [
        "def forward_neuralnet(x):\n",
        "    global weight, bias\n",
        "    output = np.matmul(x, weight) + bias\n",
        "    return output, x\n",
        "\n",
        "def backprop_neuralnet(G_output, x):\n",
        "    global weight, bias\n",
        "    g_output_w = x.transpose()\n",
        "    \n",
        "    G_w = np.matmul(g_output_w, G_output)\n",
        "    G_b = np.sum(G_output, axis=0)\n",
        "\n",
        "    weight -= LEARNING_RATE * G_w\n",
        "    bias -= LEARNING_RATE * G_b"
      ],
      "execution_count": null,
      "outputs": []
    },
    {
      "cell_type": "markdown",
      "metadata": {
        "id": "XJy1Uq73aHs3",
        "colab_type": "text"
      },
      "source": [
        "## D.2 / E.2 후처리 과정에 대한 순전파 및 역전파 함수 정의"
      ]
    },
    {
      "cell_type": "code",
      "metadata": {
        "id": "HzzfZB3qaHs4",
        "colab_type": "code",
        "colab": {}
      },
      "source": [
        "def forward_postproc(output, y):\n",
        "    diff = output - y\n",
        "    square = np.square(diff)\n",
        "    loss = np.mean(square)\n",
        "    return loss, diff\n",
        "\n",
        "def backprop_postproc(G_loss, diff):\n",
        "    shape = diff.shape\n",
        "    \n",
        "    g_loss_square = np.ones(shape) / np.prod(shape)\n",
        "    g_square_diff = 2 * diff\n",
        "    g_diff_output = 1\n",
        "\n",
        "    G_square = g_loss_square * G_loss\n",
        "    G_diff = g_square_diff * G_square\n",
        "    G_output = g_diff_output * G_diff\n",
        "    \n",
        "    return G_output"
      ],
      "execution_count": null,
      "outputs": []
    },
    {
      "cell_type": "markdown",
      "metadata": {
        "id": "ziSFcOnwaHs8",
        "colab_type": "text"
      },
      "source": [
        "## D.3 정확도 계산 함수 정의  "
      ]
    },
    {
      "cell_type": "code",
      "metadata": {
        "id": "MkltR_NNaHs9",
        "colab_type": "code",
        "colab": {}
      },
      "source": [
        "def eval_accuracy(output, y):\n",
        "    mdiff = np.mean(np.abs((output - y)/y))\n",
        "    return 1 - mdiff"
      ],
      "execution_count": null,
      "outputs": []
    },
    {
      "cell_type": "markdown",
      "metadata": {
        "id": "Yr4dlrxLaHtA",
        "colab_type": "text"
      },
      "source": [
        "## 단층퍼셉트론 메인 함수 실행"
      ]
    },
    {
      "cell_type": "code",
      "metadata": {
        "id": "N3hg_yiBaHtB",
        "colab_type": "code",
        "colab": {},
        "outputId": "27c3d881-a0b0-400b-b3ae-736626d9f025"
      },
      "source": [
        "abalone_exec()"
      ],
      "execution_count": null,
      "outputs": [
        {
          "output_type": "stream",
          "text": [
            "Epoch 1: loss=33.875, accuracy=0.557/0.812\n",
            "Epoch 2: loss=8.226, accuracy=0.820/0.814\n",
            "Epoch 3: loss=7.582, accuracy=0.812/0.809\n",
            "Epoch 4: loss=7.475, accuracy=0.808/0.811\n",
            "Epoch 5: loss=7.395, accuracy=0.810/0.809\n",
            "Epoch 6: loss=7.328, accuracy=0.808/0.810\n",
            "Epoch 7: loss=7.269, accuracy=0.808/0.811\n",
            "Epoch 8: loss=7.217, accuracy=0.808/0.812\n",
            "Epoch 9: loss=7.175, accuracy=0.810/0.810\n",
            "Epoch 10: loss=7.135, accuracy=0.809/0.810\n",
            "\n",
            "Final Test: final accuracy = 0.810\n"
          ],
          "name": "stdout"
        }
      ]
    },
    {
      "cell_type": "markdown",
      "metadata": {
        "id": "OU3IWuADaHtK",
        "colab_type": "text"
      },
      "source": [
        "## 파라미터 확인"
      ]
    },
    {
      "cell_type": "code",
      "metadata": {
        "id": "ZsrndAX3aHtK",
        "colab_type": "code",
        "colab": {},
        "outputId": "c892313d-6818-455b-8b6b-42e770e3727c"
      },
      "source": [
        "print(weight)\n",
        "print(bias)"
      ],
      "execution_count": null,
      "outputs": [
        {
          "output_type": "stream",
          "text": [
            "[[1.02697603]\n",
            " [1.47450981]\n",
            " [1.66960135]\n",
            " [2.04468668]\n",
            " [1.62513525]\n",
            " [0.60292627]\n",
            " [2.39993815]\n",
            " [0.54107313]\n",
            " [0.46878034]\n",
            " [1.01969382]]\n",
            "[4.16894769]\n"
          ],
          "name": "stdout"
        }
      ]
    },
    {
      "cell_type": "markdown",
      "metadata": {
        "id": "ug5mEMDTaHtO",
        "colab_type": "text"
      },
      "source": [
        "## 새로운 입력 벡터 X에 대한 예측"
      ]
    },
    {
      "cell_type": "code",
      "metadata": {
        "id": "WBZkpxDJaHtP",
        "colab_type": "code",
        "colab": {},
        "outputId": "7340f986-738a-43d0-d7b1-82790f6b90b1"
      },
      "source": [
        "x = np.array([0,1,0,0.44,0.3,0.08,0.5,0.23,0.11,0.2])\n",
        "output = forward_neuralnet(x)\n",
        "print(output)"
      ],
      "execution_count": null,
      "outputs": [
        {
          "output_type": "stream",
          "text": [
            "(array([8.65881481]), array([0.  , 1.  , 0.  , 0.44, 0.3 , 0.08, 0.5 , 0.23, 0.11, 0.2 ]))\n"
          ],
          "name": "stdout"
        }
      ]
    },
    {
      "cell_type": "markdown",
      "metadata": {
        "id": "q_KMBO5xaHtT",
        "colab_type": "text"
      },
      "source": [
        "## 하이퍼퍼라미터 수정하며 실험\n",
        "\n",
        "* LEARNING_RATE = 0.001 -> 0.1\n",
        "* epoch_count = 10 -> 100\n",
        "* mb_size = 10 -> 100"
      ]
    },
    {
      "cell_type": "code",
      "metadata": {
        "id": "qQSEXIAqaHtT",
        "colab_type": "code",
        "colab": {},
        "outputId": "c6618967-e6e2-47f2-e4ab-f375ffa55906"
      },
      "source": [
        "LEARNING_RATE = 0.1\n",
        "abalone_exec(epoch_count=100,mb_size=100,report=20)"
      ],
      "execution_count": null,
      "outputs": [
        {
          "output_type": "stream",
          "text": [
            "Epoch 20: loss=5.804, accuracy=0.825/0.831\n",
            "Epoch 40: loss=5.259, accuracy=0.834/0.828\n",
            "Epoch 60: loss=5.056, accuracy=0.837/0.838\n",
            "Epoch 80: loss=4.950, accuracy=0.838/0.840\n",
            "Epoch 100: loss=4.910, accuracy=0.840/0.826\n",
            "\n",
            "Final Test: final accuracy = 0.826\n"
          ],
          "name": "stdout"
        }
      ]
    },
    {
      "cell_type": "code",
      "metadata": {
        "id": "YCk1XAZjaHtY",
        "colab_type": "code",
        "colab": {}
      },
      "source": [
        ""
      ],
      "execution_count": null,
      "outputs": []
    }
  ]
}