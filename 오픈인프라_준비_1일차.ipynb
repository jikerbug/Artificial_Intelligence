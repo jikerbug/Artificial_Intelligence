{
  "nbformat": 4,
  "nbformat_minor": 0,
  "metadata": {
    "colab": {
      "name": "오픈인프라 준비 1일차.ipynb",
      "provenance": [],
      "collapsed_sections": [],
      "authorship_tag": "ABX9TyMBWOHqGuEazQ8ViP4X/+zm",
      "include_colab_link": true
    },
    "kernelspec": {
      "name": "python3",
      "display_name": "Python 3"
    }
  },
  "cells": [
    {
      "cell_type": "markdown",
      "metadata": {
        "id": "view-in-github",
        "colab_type": "text"
      },
      "source": [
        "<a href=\"https://colab.research.google.com/github/jikerbug/Artificial_Intelligence/blob/master/%EC%98%A4%ED%94%88%EC%9D%B8%ED%94%84%EB%9D%BC_%EC%A4%80%EB%B9%84_1%EC%9D%BC%EC%B0%A8.ipynb\" target=\"_parent\"><img src=\"https://colab.research.google.com/assets/colab-badge.svg\" alt=\"Open In Colab\"/></a>"
      ]
    },
    {
      "cell_type": "markdown",
      "metadata": {
        "id": "CEy1pjf3n6tK",
        "colab_type": "text"
      },
      "source": [
        "Deep learning fo Audio를 학습중이다 [딥러닝 for Audio](https://www.youtube.com/watch?v=qxIaW-WvLDU&list=PL-wATfeyAMNrtbkCNsLcpoAyBBRJZVlnf&index=3)"
      ]
    },
    {
      "cell_type": "code",
      "metadata": {
        "id": "e67sy9JTn3ID",
        "colab_type": "code",
        "colab": {
          "base_uri": "https://localhost:8080/",
          "height": 34
        },
        "outputId": "2ec512b3-6fe3-4561-afd4-b9b302d7f17d"
      },
      "source": [
        "import math\n",
        "\n",
        "def sigmoid(x):\n",
        "  y = 1.0 / (1 + math.exp(-x))\n",
        "  return y\n",
        "\n",
        "def activate(inputs, weights):\n",
        "  # perform net input\n",
        "  h = 0\n",
        "  for x,w in zip(inputs, weights):\n",
        "    h += x*w\n",
        "  \n",
        "\n",
        "  # perform activation\n",
        "  return sigmoid(h)\n",
        "\n",
        "if __name__ == \"__main__\":\n",
        "  inputs = [.5, .3, .2]\n",
        "  weights = [.4, .7, .2]\n",
        "  output = activate(inputs, weights)\n",
        "  print(output)\n",
        "\n",
        "\n",
        "\n"
      ],
      "execution_count": 2,
      "outputs": [
        {
          "output_type": "stream",
          "text": [
            "0.610639233949222\n"
          ],
          "name": "stdout"
        }
      ]
    },
    {
      "cell_type": "code",
      "metadata": {
        "id": "LgSvOrnAx5bl",
        "colab_type": "code",
        "colab": {
          "base_uri": "https://localhost:8080/",
          "height": 52
        },
        "outputId": "f99d767a-6de8-4ca9-d2e1-5a5da0740504"
      },
      "source": [
        "import numpy as np\n",
        "\n",
        "class MLP:\n",
        "  def __init__(self, num_inputs=3, num_hidden=[3,5], num_outputs=2):\n",
        "\n",
        "    self.num_inputs = num_inputs\n",
        "    self.num_hidden = num_hidden\n",
        "    self.num_outputs = num_outputs\n",
        "\n",
        "    layers = [self.num_inputs] + self.num_hidden + [self.num_outputs]\n",
        "\n",
        "    #initiate random weights\n",
        "\n",
        "    self.weights = []\n",
        "    for i in range(len(layers) - 1):\n",
        "      w = np.random.rand(layers[i], layers[i+1]) \n",
        "      # 구체적 설명 : 만약 i가 1일 경우, 여기서는 layers[1] = 3이고 layers[2] = 5이다 -> 즉 3*5의 w가 필요하다.\n",
        "      # -> 1*3 행렬이 입력되면 행렬곱연산이 일어나 1*5행렬이 도출될 것\n",
        "      self.weights.append(w)\n",
        "\n",
        "  def forward_propagate(self, inputs):\n",
        "\n",
        "    activations = inputs\n",
        "    for w in self.weights:\n",
        "\n",
        "      # calculate net inputs\n",
        "      net_inputs = np.dot(activations, w)\n",
        "\n",
        "      # calculate the activations\n",
        "      activations = self._sigmoid(net_inputs)\n",
        "\n",
        "    return activations\n",
        "\n",
        "\n",
        "  def _sigmoid(self, x):\n",
        "    return 1/ (1+np.exp(-x))\n",
        "\n",
        "\n",
        "if __name__ == \"__main__\":\n",
        "  # create an MLP\n",
        "  mlp = MLP()\n",
        "\n",
        "  # create some inputs\n",
        "  inputs = np.random.rand(mlp.num_inputs)\n",
        "\n",
        "  # perform forward prop\n",
        "  outputs = mlp.forward_propagate(inputs)\n",
        "\n",
        "  # print the results\n",
        "  print(\"The network input is: {}\".format(inputs))\n",
        "  print(\"The network output is: {}\".format(outputs))\n",
        "\n",
        "\n",
        "\n"
      ],
      "execution_count": 4,
      "outputs": [
        {
          "output_type": "stream",
          "text": [
            "The network input is: [0.90195195 0.23044259 0.03722006]\n",
            "The network output is: [0.80375962 0.87452327]\n"
          ],
          "name": "stdout"
        }
      ]
    }
  ]
}