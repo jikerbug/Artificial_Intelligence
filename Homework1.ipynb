{
  "nbformat": 4,
  "nbformat_minor": 0,
  "metadata": {
    "colab": {
      "name": "Untitled0.ipynb",
      "provenance": [],
      "authorship_tag": "ABX9TyN7g2ycGgy/aFXhz8Zu8977",
      "include_colab_link": true
    },
    "kernelspec": {
      "name": "python3",
      "display_name": "Python 3"
    }
  },
  "cells": [
    {
      "cell_type": "markdown",
      "metadata": {
        "id": "view-in-github",
        "colab_type": "text"
      },
      "source": [
        "<a href=\"https://colab.research.google.com/github/jikerbug/Artificial_Intelligence/blob/master/Homework1.ipynb\" target=\"_parent\"><img src=\"https://colab.research.google.com/assets/colab-badge.svg\" alt=\"Open In Colab\"/></a>"
      ]
    },
    {
      "cell_type": "markdown",
      "metadata": {
        "id": "5Q18PiBqgQ9A",
        "colab_type": "text"
      },
      "source": [
        ""
      ]
    },
    {
      "cell_type": "markdown",
      "metadata": {
        "id": "F-EwSzahgR0d",
        "colab_type": "text"
      },
      "source": [
        "# **1주차 과제**\n"
      ]
    },
    {
      "cell_type": "markdown",
      "metadata": {
        "id": "9I4YLag5gltF",
        "colab_type": "text"
      },
      "source": [
        "1. 언어\n",
        "\n"
      ]
    },
    {
      "cell_type": "markdown",
      "metadata": {
        "id": "jdatDQ4dgpaz",
        "colab_type": "text"
      },
      "source": [
        "2. 음성"
      ]
    },
    {
      "cell_type": "markdown",
      "metadata": {
        "id": "HKyKZBeagr9j",
        "colab_type": "text"
      },
      "source": [
        "3. 이미지"
      ]
    },
    {
      "cell_type": "markdown",
      "metadata": {
        "id": "Dz3EvqHegvSj",
        "colab_type": "text"
      },
      "source": [
        "4. 자율주행"
      ]
    },
    {
      "cell_type": "markdown",
      "metadata": {
        "id": "xBaX8DVugwhK",
        "colab_type": "text"
      },
      "source": [
        "감사합니다 :)"
      ]
    }
  ]
}