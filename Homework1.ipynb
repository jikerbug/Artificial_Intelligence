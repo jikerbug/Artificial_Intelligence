{
  "nbformat": 4,
  "nbformat_minor": 0,
  "metadata": {
    "colab": {
      "name": "Homework1.ipynb",
      "provenance": [],
      "collapsed_sections": [],
      "authorship_tag": "ABX9TyNax4CGESofE+29Kac/HsPX",
      "include_colab_link": true
    },
    "kernelspec": {
      "name": "python3",
      "display_name": "Python 3"
    }
  },
  "cells": [
    {
      "cell_type": "markdown",
      "metadata": {
        "id": "view-in-github",
        "colab_type": "text"
      },
      "source": [
        "<a href=\"https://colab.research.google.com/github/jikerbug/Artificial_Intelligence/blob/master/Homework1.ipynb\" target=\"_parent\"><img src=\"https://colab.research.google.com/assets/colab-badge.svg\" alt=\"Open In Colab\"/></a>"
      ]
    },
    {
      "cell_type": "markdown",
      "metadata": {
        "id": "8vQWBPVchdcG",
        "colab_type": "text"
      },
      "source": [
        "# **인공지능 사관학교 강의**\n"
      ]
    },
    {
      "cell_type": "markdown",
      "metadata": {
        "id": "F-EwSzahgR0d",
        "colab_type": "text"
      },
      "source": [
        "## **1주차 과제(2020.05.21)**\n"
      ]
    },
    {
      "cell_type": "markdown",
      "metadata": {
        "id": "9I4YLag5gltF",
        "colab_type": "text"
      },
      "source": [
        "### 1. 언어\n",
        "\n",
        "*   알리바바의, 가짜 온라인 뉴스 확산 방지를 위한 인공지능 서비스\n",
        "*   뉴스 기사의 주요 항목을 확인하고 이를 이전 뉴스 기사 데이터 베이스와 비교해 뉴스가 논리적이고 근거가 충분한지를 확인한다. "
      ]
    },
    {
      "cell_type": "markdown",
      "metadata": {
        "id": "jdatDQ4dgpaz",
        "colab_type": "text"
      },
      "source": [
        "### 2. 음성\n",
        "\n",
        "*   라이언 로켓의, 유명인의 목소리로 책을 읽거나 영상에 음성을 더빙하는 인공지능 서비스\n",
        "*   오디오북 관련 시장 조사 결과, 성우와 녹음실 등의 문제로, 실제 서비스를 하고 있는 오디오북이 많지 않다는 점을 파악 -> 서비스화 \n",
        "\n"
      ]
    },
    {
      "cell_type": "markdown",
      "metadata": {
        "id": "HKyKZBeagr9j",
        "colab_type": "text"
      },
      "source": [
        "### 3. 이미지\n",
        "\n",
        "*   This Person Does Not Exist\n",
        "*   GAN을 이용한 실존하지 않는 합성된 가짜 얼굴 사진을 생성하는 서비스"
      ]
    },
    {
      "cell_type": "markdown",
      "metadata": {
        "id": "Dz3EvqHegvSj",
        "colab_type": "text"
      },
      "source": [
        "### 4.자율주행\n",
        "\n",
        "*   ETRI, 센서 정보와 정밀지도를 기반으로 주변 도로 상황 인식을 통해 운행되는 인공지능 자율주행 서비스 개발\n",
        "*   항목 추가스마트폰 앱을 통해 차량을 호출하고, 차량에 탑승해 목적지까지 자율주행하는 데 성공 but 아직 전용도로가 아닌 일반도로에서는 한계 보유\n",
        "\n"
      ]
    },
    {
      "cell_type": "markdown",
      "metadata": {
        "id": "xBaX8DVugwhK",
        "colab_type": "text"
      },
      "source": [
        "감사합니다 :)"
      ]
    }
  ]
}